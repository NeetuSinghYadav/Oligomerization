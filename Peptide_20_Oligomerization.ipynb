{
 "cells": [
  {
   "cell_type": "code",
   "execution_count": 1,
   "metadata": {},
   "outputs": [],
   "source": [
    "import numpy as np\n",
    "import os as os\n",
    "import shutil as sh\n",
    "import MDAnalysis as mdana\n",
    "import sys\n",
    "from MDAnalysis.analysis.distances import distance_array\n",
    "import networkx as nx\n",
    "import pandas as pd\n",
    "import mdtraj as md\n",
    "import matplotlib\n",
    "from matplotlib import pyplot as plt"
   ]
  },
  {
   "cell_type": "code",
   "execution_count": 2,
   "metadata": {},
   "outputs": [
    {
     "name": "stdout",
     "output_type": "stream",
     "text": [
      "../TRAJ/ALK1_Run1_20_012_protein_final.xtc\r\n",
      "../TRAJ/ALK1_Run1_20_npt_eq_LastFrame.pdb\r\n"
     ]
    }
   ],
   "source": [
    "ls ../TRAJ/ALK1_*20*xtc ../TRAJ/ALK1*20*pdb"
   ]
  },
  {
   "cell_type": "code",
   "execution_count": 3,
   "metadata": {},
   "outputs": [],
   "source": [
    "ref_structure=\"../TRAJ/RAE_Run1_20_npt_eq_LastFrame.pdb\"\n",
    "traj         =\"../TRAJ/RAE_Run1_20_012_protein_final.xtc\"\n",
    "Min_Distance =int(5)\n",
    "Name         ='RAE_20_Run1'\n",
    "\n",
    "#structure parameters\n",
    "topology   = md.load(ref_structure).topology\n",
    "trajectory = md.load(traj, top=ref_structure)\n",
    "frames     = trajectory.n_frames #Number of frames\n",
    "chains     = 20   #Number of chains\n",
    "atoms      = int(topology.n_atoms/chains)#Number of atoms in each monomer \n",
    "AminoAcids = int(topology.n_residues/chains) #Number of residues per chain "
   ]
  },
  {
   "cell_type": "code",
   "execution_count": 4,
   "metadata": {},
   "outputs": [
    {
     "data": {
      "text/plain": [
       "(20, 20001)"
      ]
     },
     "execution_count": 4,
     "metadata": {},
     "output_type": "execute_result"
    }
   ],
   "source": [
    "chains, frames"
   ]
  },
  {
   "cell_type": "code",
   "execution_count": 5,
   "metadata": {},
   "outputs": [],
   "source": [
    "isum=1\n",
    "atoms_list=[]\n",
    "atomsperAminoAcid=[]\n",
    "residue_list=[]"
   ]
  },
  {
   "cell_type": "code",
   "execution_count": 6,
   "metadata": {},
   "outputs": [],
   "source": [
    "for residue in topology.chain(0).residues:\n",
    "    atoms_list.append(residue.n_atoms)\n",
    "    residue_list.append(residue)\n",
    "    ', '.join(map(lambda x: \"'\" + x + \"'\", str(residue_list)))"
   ]
  },
  {
   "cell_type": "code",
   "execution_count": 7,
   "metadata": {},
   "outputs": [],
   "source": [
    "for ii in range(len(atoms_list)):\n",
    "    isum = isum + atoms_list[ii]\n",
    "    atomsperAminoAcid.append(isum)\n",
    "atomsperAminoAcid.insert(0, 1)"
   ]
  },
  {
   "cell_type": "code",
   "execution_count": 8,
   "metadata": {},
   "outputs": [
    {
     "name": "stderr",
     "output_type": "stream",
     "text": [
      "/home/yadav129/anaconda3/lib/python3.9/site-packages/MDAnalysis/topology/PDBParser.py:317: UserWarning: Element information is missing, elements attribute will not be populated. If needed these can be guessed using MDAnalysis.topology.guessers.\n",
      "  warnings.warn(\"Element information is missing, elements attribute \"\n"
     ]
    }
   ],
   "source": [
    "uni = mdana.Universe(ref_structure,traj)\n",
    "n,t = list(enumerate(uni.trajectory))[0]\n",
    "box = t.dimensions[:6]"
   ]
  },
  {
   "cell_type": "code",
   "execution_count": 9,
   "metadata": {},
   "outputs": [],
   "source": [
    "atom_Groups = [[] for x in range(chains)]\n",
    "m_start=0\n",
    "for m in range(0,chains):\n",
    "    m_end = atoms * (m+1)\n",
    "    atom_Groups[m].extend([uni.select_atoms('bynum '+ str(m_start) + ':' + str(m_end))])\n",
    "    m_start = m_end + 1\n",
    "fileout1 =  open(Name+'_012_oligomer_groups.dat','w')\n",
    "fileout2 =  open(Name+'_012_oligomer_states.dat','w')\n",
    "\n",
    "for tt in uni.trajectory[1::5]:\n",
    "    fileout1.write (str(tt.frame) + '\\t')\n",
    "    fileout2.write (str(tt.frame) + '\\t')\n",
    "    \n",
    "    mySet = set([])\n",
    "    graph = []\n",
    "    atom_Groups = [[] for x in range(chains)]\n",
    "    m_start=0\n",
    "    for m in range(0,chains):\n",
    "        m_end = atoms * (m+1)\n",
    "        atom_Groups[m].extend([uni.select_atoms('bynum '+ str(m_start) + ':' + str(m_end))])\n",
    "        m_start = m_end + 1\n",
    "    count = 0\n",
    "    for i in range(chains-1):\n",
    "        for j in range(i+1,chains):\n",
    "            dist = distance_array(atom_Groups[i][0].positions,atom_Groups[j][0].positions,box).min()\n",
    "            if(dist <= Min_Distance):\n",
    "                my_tuple = (i,j)\n",
    "                mySet.add(my_tuple)\n",
    "                \n",
    "    graph = nx.from_edgelist(mySet)   \n",
    "    for i in range(chains):\n",
    "        if i not in list(graph):\n",
    "            fileout1.write ('['+ str(i)+']' + '\\t')\n",
    "            fileout2.write ('1' + '\\t')\n",
    "        else:\n",
    "            fileout1.write (str(list(nx.node_connected_component(graph, i))) + '\\t')\n",
    "            fileout2.write (str(len(list(nx.node_connected_component(graph, i)))) + '\\t')\n",
    "    fileout1.write ('\\n')\n",
    "    fileout2.write ('\\n')\n",
    "    \n",
    "fileout1.close()\n",
    "fileout2.close()"
   ]
  },
  {
   "cell_type": "code",
   "execution_count": 10,
   "metadata": {},
   "outputs": [
    {
     "data": {
      "text/plain": [
       "<function TextIOWrapper.close()>"
      ]
     },
     "execution_count": 10,
     "metadata": {},
     "output_type": "execute_result"
    }
   ],
   "source": [
    "# Get oligomerization data\n",
    "\n",
    "OligoStates = [[0 for z in range(chains)] for x in range(frames+1)]\n",
    "file = open(Name+'_012_oligomer_groups.dat','r')\n",
    "line = file.readline()\n",
    "j = 0\n",
    "while line:\n",
    "    temp = line.split('\\t')\n",
    "    for k in range(chains):\n",
    "        OligoStates[j][k] = temp[k + 1][1:-1].split(',')\n",
    "    j += 1\n",
    "    line = file.readline()\n",
    "file.close"
   ]
  },
  {
   "cell_type": "code",
   "execution_count": 11,
   "metadata": {},
   "outputs": [],
   "source": [
    "#Highest Oligomer size in each frame\n",
    "states=open(Name+'_012_oligomer_states.dat', 'r')\n",
    "ter=states.readlines()[0:frames+1]\n",
    "\n",
    "result=[]\n",
    "for freq in (ter):\n",
    "    result.append([int(hist) for hist in freq.strip().split('\\t')[1:]])\n",
    "\n",
    "fileout3 = open (Name+'_012_oligo_highest_size.dat', 'w')\n",
    "for oli_count in range(len(ter)):\n",
    "    fileout3.write(\"{} {} {}\\n\".format(oli_count, '\\t', np.max(result[oli_count])))\n",
    "fileout3.close()"
   ]
  },
  {
   "cell_type": "code",
   "execution_count": 12,
   "metadata": {},
   "outputs": [],
   "source": [
    "# Create contact matrix\n",
    "\n",
    "ContactMap = [[0 for x in range(AminoAcids)] for y in range(AminoAcids)]\n",
    "\n",
    "# Create atom groups for each amino acid of each monomer\n",
    "\n",
    "AtomGroups = [[] for x in range(chains)]\n",
    "\n",
    "for m in range(0,chains):\n",
    "    for aa in range(0,AminoAcids):\n",
    "        AtomGroups[m].extend([uni.select_atoms('bynum '+str(atoms*m + atomsperAminoAcid[aa])+':'+str(atoms*m + atomsperAminoAcid[aa + 1] - 1 ))])"
   ]
  },
  {
   "cell_type": "code",
   "execution_count": 13,
   "metadata": {},
   "outputs": [],
   "source": [
    "count = 0\n",
    "for n,t in enumerate(uni.trajectory[1:100]):\n",
    "    on = 0\n",
    "    Groups = []\n",
    "    for i in OligoStates[n]:\n",
    "      #  print (i, len(i))\n",
    "        if (len(i))>=0:\n",
    "            #print (\"Suce\")\n",
    "            on = 1\n",
    "            Groups.extend([i])\n",
    "    Set = set(tuple(x) for x in Groups)\n",
    "    Groups = [ list(x) for x in Set ] \n",
    "    if on == 1:\n",
    "    # Calculate dimension of the box to considered PBC\n",
    "        box = t.dimensions[:6]\n",
    "        for g in Groups:\n",
    "        # Calculate contacts\n",
    "            for n1,i in enumerate(g):\n",
    "                for j in g[(n1 + 1)::]:\n",
    "                    count += 1\n",
    "                    for n2,atoms1 in enumerate(AtomGroups[int(float(i))]):\n",
    "                        for n3,atoms2 in enumerate(AtomGroups[int(float(j))]):\n",
    "                            if ((distance_array(atoms1.positions,atoms2.positions,box).min()) <= Min_Distance):\n",
    "                                ContactMap[n2][n3] +=1\n",
    "                                ContactMap[n3][n2] +=1 "
   ]
  },
  {
   "cell_type": "code",
   "execution_count": 14,
   "metadata": {},
   "outputs": [],
   "source": [
    "Norm_ContactMap = np.true_divide(ContactMap,float(count)*2.0)"
   ]
  },
  {
   "cell_type": "code",
   "execution_count": 15,
   "metadata": {},
   "outputs": [],
   "source": [
    "# Save contact map in a file\n",
    "fileout = open (Name+'_012_contact_map.dat','w')\n",
    "for i in Norm_ContactMap:\n",
    "    for j in i:\n",
    "        print(j, end=\"\\t\", file=fileout)\n",
    "    print(\"\\n\",file=fileout)\n",
    "fileout.close()    "
   ]
  },
  {
   "cell_type": "code",
   "execution_count": 16,
   "metadata": {},
   "outputs": [],
   "source": [
    "# Block Average\n",
    "size_data = np.loadtxt(Name+'_012_oligomer_states.dat')\n",
    "window = 25 # specify over how many frames the running average is to be calculated\n",
    "weights = np.repeat(1.0,window)/window\n",
    "size_data_m = np.convolve(size_data[:,1],weights,'valid')\n",
    "\n",
    "fileout4 = open(Name+'_012_oligo_block_average.dat', 'w')\n",
    "for t,b in enumerate(size_data_m):\n",
    "    fileout4.write(\"{} {} {}\\n\".format(t, '\\t', b))\n",
    "fileout4.close()"
   ]
  }
 ],
 "metadata": {
  "kernelspec": {
   "display_name": "Python 3 (ipykernel)",
   "language": "python",
   "name": "python3"
  },
  "language_info": {
   "codemirror_mode": {
    "name": "ipython",
    "version": 3
   },
   "file_extension": ".py",
   "mimetype": "text/x-python",
   "name": "python",
   "nbconvert_exporter": "python",
   "pygments_lexer": "ipython3",
   "version": "3.9.7"
  }
 },
 "nbformat": 4,
 "nbformat_minor": 4
}
